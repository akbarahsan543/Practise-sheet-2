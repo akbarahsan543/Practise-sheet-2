{
 "cells": [
  {
   "cell_type": "markdown",
   "metadata": {},
   "source": [
    "# Python User Define Function Practice Activity - 2 "
   ]
  },
  {
   "cell_type": "markdown",
   "metadata": {},
   "source": [
    "Asst. Prof. Syed Faisal Ali              $\\;\\;\\;\\;\\;\\;$              Programming Fundamentals - FALL 2019 $\\;\\;\\;\\;\\;\\;$ Software Engineering                     $\\;\\;\\;\\;\\;\\;$                   Dated: 27 Nov 2019"
   ]
  },
  {
   "cell_type": "markdown",
   "metadata": {},
   "source": [
    "Question 1: Create a function to find the following:\n",
    "If the base of triangle is 3 cm long and its equilateral triangle and the radius of circle is 1.5 cm then find the area of triangle shaded. \n"
   ]
  },
  {
   "cell_type": "markdown",
   "metadata": {},
   "source": [
    "![proj](q1.jpg)"
   ]
  },
  {
   "cell_type": "code",
   "execution_count": 5,
   "metadata": {},
   "outputs": [
    {
     "name": "stdout",
     "output_type": "stream",
     "text": [
      "the area of shaded region is  19.931416529422965\n"
     ]
    }
   ],
   "source": [
    "import math\n",
    "def area(radius,base):\n",
    "    areaofcircle=math.pi*radius**2\n",
    "    areaoftri=base*base*3\n",
    "    x=areaoftri-areaofcircle\n",
    "    print(\"the area of shaded region is \",x)\n",
    "    \n",
    "area(1.5,3)\n",
    "#10 minutes"
   ]
  },
  {
   "cell_type": "markdown",
   "metadata": {},
   "source": [
    "Question 2: Create a function which can read a dictionary of your family members such as 5 members. \n",
    "1 Abbu, 1 Ammi, 2 Brothers 1 Sister. Now feed this data in dictionary in terms of name and relations.\n",
    "The UDF will ask findrelation() in this you will enter Brother it will return the names of two brothers you have inserted. In case if the relation is not found it will return “Sorry the relation doesn’t exist in your family.” \n"
   ]
  },
  {
   "cell_type": "code",
   "execution_count": 4,
   "metadata": {},
   "outputs": [
    {
     "ename": "SyntaxError",
     "evalue": "invalid syntax (<ipython-input-4-fa169c1b3ecb>, line 5)",
     "output_type": "error",
     "traceback": [
      "\u001b[1;36m  File \u001b[1;32m\"<ipython-input-4-fa169c1b3ecb>\"\u001b[1;36m, line \u001b[1;32m5\u001b[0m\n\u001b[1;33m    print(\"names of brothers are:\" my_dict)\u001b[0m\n\u001b[1;37m                                         ^\u001b[0m\n\u001b[1;31mSyntaxError\u001b[0m\u001b[1;31m:\u001b[0m invalid syntax\n"
     ]
    }
   ],
   "source": [
    "def findrelation(d):\n",
    "    my_dict = {'father':'imran' , 'brother':'zohaib, saqib' , 'sister':'turoob' , 'mother':'shabana'}\n",
    "    a = my_dict[d]\n",
    "    if  my_dict==\"brother\":\n",
    "        print(\"names of brothers are:\" my_dict)\n",
    "    else:\n",
    "        print(\"the relation doesnt exist\")\n",
    "findrelation('brother')"
   ]
  },
  {
   "cell_type": "markdown",
   "metadata": {},
   "source": [
    "Question 3: Create a function to find the following:\n",
    "If the base of triangle is 5 cm long and its equilateral triangle and the radius of circle is 2.25 cm then find the area of triangle shaded. \n"
   ]
  },
  {
   "cell_type": "markdown",
   "metadata": {},
   "source": [
    "![proj](q3.jpg)"
   ]
  },
  {
   "cell_type": "code",
   "execution_count": 11,
   "metadata": {},
   "outputs": [
    {
     "name": "stdout",
     "output_type": "stream",
     "text": [
      "the area of shaded region is  59.09568719120168\n"
     ]
    }
   ],
   "source": [
    "import math\n",
    "def area(radius,base):\n",
    "    areaofcircle=math.pi*radius**2\n",
    "    areaoftri=base*base*3\n",
    "    x=areaoftri-areaofcircle\n",
    "    print(\"the area of shaded region is \",x)\n",
    "    \n",
    "area(2.25,5)\n",
    "#2 minutes"
   ]
  },
  {
   "cell_type": "markdown",
   "metadata": {},
   "source": [
    "Question 4:\n",
    "Create a function that takes a list of random numbers from users and add only those which are even. If all the numbers are odd it will return sorry no even number found.\n"
   ]
  },
  {
   "cell_type": "code",
   "execution_count": 16,
   "metadata": {},
   "outputs": [
    {
     "name": "stdout",
     "output_type": "stream",
     "text": [
      "the sum of even numbers are  10\n",
      "sorry no even number found\n",
      "sorry no even number found\n",
      "the sum of even numbers are  12\n",
      "the sum of even numbers are  16\n"
     ]
    }
   ],
   "source": [
    "def even(a,b,c,d,e):\n",
    "    my_list=[a,b,c,d,e]\n",
    "    sum=0\n",
    "    for i in my_list:\n",
    "        if i%2==0:\n",
    "            sum+=i\n",
    "            print(\"the sum of even numbers are \",sum)\n",
    "        else:\n",
    "            print(\"sorry no even number found\")\n",
    "even(10,13,9,2,4)\n",
    "#5 minutes"
   ]
  },
  {
   "cell_type": "markdown",
   "metadata": {},
   "source": [
    "Question 5:\n",
    "Write a function which can take a list of numbers and it will return sorted list.\n"
   ]
  },
  {
   "cell_type": "code",
   "execution_count": 18,
   "metadata": {},
   "outputs": [
    {
     "name": "stdout",
     "output_type": "stream",
     "text": [
      "the sorted list is  [12, 36, 54, 70, 93, 100]\n"
     ]
    }
   ],
   "source": [
    "def sort(a,b,c,d,e,f):\n",
    "    my_list=[a,b,c,d,e,f]\n",
    "    my_list.sort()\n",
    "    print(\"the sorted list is \",my_list)\n",
    "sort(100,54,36,12,70,93)\n",
    "#5 minutes"
   ]
  },
  {
   "cell_type": "markdown",
   "metadata": {},
   "source": [
    "Question 6:\n",
    "Write a function that will take the radius and return the perimeter and area of circle with 5% increment.\n"
   ]
  },
  {
   "cell_type": "code",
   "execution_count": 22,
   "metadata": {},
   "outputs": [
    {
     "name": "stdout",
     "output_type": "stream",
     "text": [
      "the area of the circle with 5% increment is  118.75220230569418 \n",
      "the perimeter of circle with 5% increment is  39.58406743523139\n"
     ]
    }
   ],
   "source": [
    "import math\n",
    "def area_perimeter(r):\n",
    "    area=math.pi*r**2\n",
    "    peri=2*math.pi*r\n",
    "    x=area/20\n",
    "    a=area+x\n",
    "    y=peri/20\n",
    "    b=peri+y\n",
    "    print(\"the area of the circle with 5% increment is \",a,\"\\nthe perimeter of circle with 5% increment is \",b)\n",
    "area_perimeter(6)\n",
    "#10 minutes"
   ]
  },
  {
   "cell_type": "markdown",
   "metadata": {},
   "source": [
    "Question 7:\n",
    "Write a function that will take the strings as argument and return number of vowels and consonants.\n"
   ]
  },
  {
   "cell_type": "code",
   "execution_count": 25,
   "metadata": {},
   "outputs": [
    {
     "name": "stdout",
     "output_type": "stream",
     "text": [
      "the number of vowels are  4\n",
      "the number of consonants are  7\n"
     ]
    }
   ],
   "source": [
    "def vowels(s):\n",
    "    vowel=0\n",
    "    constant=0\n",
    "    for i in s:\n",
    "        if i in \"aeiouAEIOU\":\n",
    "            vowel+=1\n",
    "        else:\n",
    "            constant+=1\n",
    "    print(\"the number of vowels are \",vowel)\n",
    "    print(\"the number of consonants are \",constant)\n",
    "vowels(\"Ahsan Akbar\")\n",
    "#5 minutes"
   ]
  },
  {
   "cell_type": "markdown",
   "metadata": {},
   "source": [
    "Question 8:\n",
    "Write a function that will take length and breadth for a rectangle and return perimeter and area of rectangle with 8% increment.\n"
   ]
  },
  {
   "cell_type": "code",
   "execution_count": 27,
   "metadata": {},
   "outputs": [
    {
     "name": "stdout",
     "output_type": "stream",
     "text": [
      "the perimeter of rectangle is  38.88 \n",
      "the area of rectangle is  77.76\n"
     ]
    }
   ],
   "source": [
    "def peri_area(l,b):\n",
    "    perimeter=2*(l+b)\n",
    "    area=l*b\n",
    "    x=perimeter/12.5+perimeter\n",
    "    y=area/12.5+area\n",
    "    print(\"the perimeter of rectangle is \",x,\"\\nthe area of rectangle is \",y)\n",
    "peri_area(12,6)\n",
    "#5 minutes"
   ]
  },
  {
   "cell_type": "markdown",
   "metadata": {},
   "source": [
    "Question 9:\n",
    "Write a function that can take the numbers in strings. From string find which number is even and which one is odd. Save them in two different lists and generate the result.\n"
   ]
  },
  {
   "cell_type": "code",
   "execution_count": 28,
   "metadata": {},
   "outputs": [
    {
     "name": "stdout",
     "output_type": "stream",
     "text": [
      "even list are  [2, 6] \n",
      "odd list are  [1, 9, 15, 7]\n"
     ]
    }
   ],
   "source": [
    "def str(a,b,c,d,e,f):\n",
    "    even=[]\n",
    "    odd=[]\n",
    "    my_list=[a,b,c,d,e,f]\n",
    "    for i in my_list:\n",
    "        if i%2==0:\n",
    "            even.append(i)\n",
    "        else:\n",
    "            odd.append(i)\n",
    "    print(\"even list are \",even,\"\\nodd list are \",odd)\n",
    "str(1,9,15,2,6,7)\n",
    "#5 minutes"
   ]
  },
  {
   "cell_type": "markdown",
   "metadata": {},
   "source": [
    "Question 10:\n",
    "Write a function which will take the string from the user and return how many alphabets have been used in it and which alphabets are missing.\n"
   ]
  },
  {
   "cell_type": "code",
   "execution_count": 43,
   "metadata": {},
   "outputs": [
    {
     "name": "stdout",
     "output_type": "stream",
     "text": [
      "the missing alphabets are  ['b', 'c', 'd', 'e', 'f', 'g', 'i', 'j', 'k', 'l', 'm', 'o', 'p', 'q', 'r', 't', 'u', 'v', 'w', 'x', 'y', 'z']\n",
      "the used alphabet are  {'s', 'a', 'h', 'n'} \n",
      "number of alphabets are: 4\n"
     ]
    }
   ],
   "source": [
    "def alphabets(a):\n",
    "    alphabets=['a','b','c','d','e','f','g','h','i','j','k','l','m','n','o','p','q','r','s','t','u','v','w','x','y','z']\n",
    "    x=26-len(a)\n",
    "    for i in a:\n",
    "        alphabets.remove(i)\n",
    "    print('the missing alphabets are ',alphabets)\n",
    "    print(\"the used alphabet are \",a,\"\\nnumber of alphabets are:\", 26-x)\n",
    "alphabets(set(\"ahsan\"))\n",
    "#14 minutes"
   ]
  },
  {
   "cell_type": "markdown",
   "metadata": {},
   "source": [
    "Question 11:\n",
    "Write a function that will take verbs in words and return a list of verbs with continuous tense by adding (ing) at the end of each verb.\n"
   ]
  },
  {
   "cell_type": "code",
   "execution_count": 32,
   "metadata": {},
   "outputs": [
    {
     "name": "stdout",
     "output_type": "stream",
     "text": [
      "droping\n",
      "standing\n"
     ]
    }
   ],
   "source": [
    "def verb(x):\n",
    "    return x+\"ing\"\n",
    "print(verb(\"drop\"))\n",
    "print(verb(\"stand\"))\n",
    "#2 minutes    "
   ]
  },
  {
   "cell_type": "markdown",
   "metadata": {},
   "source": [
    "Question 12:\n",
    "Make a function which can take two radius of circles and find the areas of it and subtract smaller one from larger one and tell the remaining area of circle.\n"
   ]
  },
  {
   "cell_type": "code",
   "execution_count": 46,
   "metadata": {},
   "outputs": [
    {
     "name": "stdout",
     "output_type": "stream",
     "text": [
      "the area of circle is  402.1238596594935\n",
      "the area of circle is  402.1238596594935\n"
     ]
    }
   ],
   "source": [
    "import math\n",
    "def area(r1,r2):\n",
    "    area1=math.pi*r1**2\n",
    "    area2=math.pi*r2**2\n",
    "    if r1>r2:\n",
    "        a=area1-area2\n",
    "        print(\"the area of circle is \",a)\n",
    "    elif r1<r2:\n",
    "        a=area2-area1\n",
    "        print(\"the area of circle is \",a)\n",
    "area(12,4)\n",
    "area(4,12)\n",
    "#5 minutes  "
   ]
  },
  {
   "cell_type": "markdown",
   "metadata": {},
   "source": [
    "Question 13:\n",
    "Write a function that will take a string and calculate number of Upper case letters and lower case letters.\n"
   ]
  },
  {
   "cell_type": "code",
   "execution_count": 47,
   "metadata": {},
   "outputs": [
    {
     "name": "stdout",
     "output_type": "stream",
     "text": [
      "the nunmber of lower letters are  3\n",
      "the nunmber of upper letters are  2\n"
     ]
    }
   ],
   "source": [
    "def caseletters_count(x):\n",
    "    count1=0\n",
    "    count2=0\n",
    "    for i in x:\n",
    "        if (i.islower()):\n",
    "            count1+=1\n",
    "        elif (i.isupper()):\n",
    "            count2+=1\n",
    "    print(\"the nunmber of lower letters are \",count1)\n",
    "    print(\"the nunmber of upper letters are \",count2)\n",
    "caseletters_count(\"AhsAn\")\n",
    "#10 minutes"
   ]
  },
  {
   "cell_type": "markdown",
   "metadata": {},
   "source": [
    "Question 14:\n",
    "Write a function which will take length and breadth of two rectangles. Subtract the smaller rectangle from the larger rectangle and return the area left behind.\n"
   ]
  },
  {
   "cell_type": "code",
   "execution_count": 48,
   "metadata": {},
   "outputs": [
    {
     "name": "stdout",
     "output_type": "stream",
     "text": [
      "the area of rectangle is  72  m.sq\n",
      "the area of rectangle is  72  m.sq\n"
     ]
    }
   ],
   "source": [
    "def area_rect(l1,b1,l2,b2):\n",
    "    area1=l1*b1\n",
    "    area2=l2*b2\n",
    "    if area1>area2:\n",
    "        area=area1-area2\n",
    "        print(\"the area of rectangle is \",area,\" m.sq\")\n",
    "    elif area2>area1:\n",
    "        area=area2-area1\n",
    "        print(\"the area of rectangle is \",area,\" m.sq\")\n",
    "area_rect(12,7,3,4)\n",
    "area_rect(3,4,12,7)\n",
    "#4 minutes"
   ]
  },
  {
   "cell_type": "markdown",
   "metadata": {},
   "source": [
    "Question 15:\n",
    "Create a function that can add the fractions in series such as 1 to 8 = 1/8+1/7+1/6+1/5 …… ½ and return the result in fraction not in decimal.\n"
   ]
  },
  {
   "cell_type": "code",
   "execution_count": 52,
   "metadata": {},
   "outputs": [
    {
     "name": "stdout",
     "output_type": "stream",
     "text": [
      "761/280\n"
     ]
    }
   ],
   "source": [
    "import fractions\n",
    "def fraction(no1,no2):\n",
    "    my_list=[]\n",
    "    for i in range(no1,no2+1):\n",
    "        x=fractions.Fraction(1,i)\n",
    "        my_list.append(x)\n",
    "    print(sum(my_list))\n",
    "fraction(1,8)\n",
    "#10 minutes"
   ]
  },
  {
   "cell_type": "markdown",
   "metadata": {},
   "source": [
    "Question 16:\n",
    "Write a function which will take height and base for a triangle and \n"
   ]
  },
  {
   "cell_type": "code",
   "execution_count": 53,
   "metadata": {},
   "outputs": [
    {
     "name": "stdout",
     "output_type": "stream",
     "text": [
      "the third side of triangle is  6.324555320336759\n"
     ]
    }
   ],
   "source": [
    "import math\n",
    "def triangle(a,b):\n",
    "    c=(a*a)+(b*b)\n",
    "    d=math.sqrt(c)\n",
    "    print(\"the third side of triangle is \",d)\n",
    "triangle(2,6)\n",
    "#1.40 minutes"
   ]
  },
  {
   "cell_type": "markdown",
   "metadata": {},
   "source": [
    "Question 17:\n",
    "Write a function which will take a list of fruits names. The function will return how many alphabets are repetitive in the names of fruits and how many are unique letters.\n"
   ]
  },
  {
   "cell_type": "code",
   "execution_count": 59,
   "metadata": {},
   "outputs": [
    {
     "name": "stdout",
     "output_type": "stream",
     "text": [
      "the repititive alphabets are:  5\n"
     ]
    }
   ],
   "source": [
    "import collections\n",
    "def repeatwords(a,b,c):\n",
    "    my_list=[a,b,c]\n",
    "    an=0\n",
    "    for i in my_list:\n",
    "        for j in i:\n",
    "            n=i.count(j)\n",
    "            if n>1:\n",
    "                an+=1\n",
    "    print('the repititive alphabets are: ',an)\n",
    "repeatwords(\"pineapple\",'mango','peach')"
   ]
  },
  {
   "cell_type": "markdown",
   "metadata": {},
   "source": [
    "Question 18:\n",
    "Write a function that can take square length and radius of circle. Find the area of both and subtract the smallest shape from largest one and return the remaining shape area.\n"
   ]
  },
  {
   "cell_type": "code",
   "execution_count": 61,
   "metadata": {},
   "outputs": [
    {
     "name": "stdout",
     "output_type": "stream",
     "text": [
      "the area of shape is  1233\n",
      "the area of shape is  1233\n"
     ]
    }
   ],
   "source": [
    "def shape_area(l1,r1,l2,r2):\n",
    "    area1=(l1**2)*r1\n",
    "    area2=(l2**2)*r2\n",
    "    if area1>area2:\n",
    "        area=area1-area2\n",
    "        print(\"the area of shape is \",area)\n",
    "    elif area2>area1:\n",
    "        area=area2-area1\n",
    "        print(\"the area of shape is \",area)\n",
    "shape_area(12,2,13,9)\n",
    "shape_area(13,9,12,2)\n",
    "#4 minutes"
   ]
  },
  {
   "cell_type": "code",
   "execution_count": null,
   "metadata": {},
   "outputs": [],
   "source": []
  }
 ],
 "metadata": {
  "kernelspec": {
   "display_name": "Python 3",
   "language": "python",
   "name": "python3"
  },
  "language_info": {
   "codemirror_mode": {
    "name": "ipython",
    "version": 3
   },
   "file_extension": ".py",
   "mimetype": "text/x-python",
   "name": "python",
   "nbconvert_exporter": "python",
   "pygments_lexer": "ipython3",
   "version": "3.7.3"
  }
 },
 "nbformat": 4,
 "nbformat_minor": 2
}
